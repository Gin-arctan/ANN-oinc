{
 "cells": [
  {
   "cell_type": "code",
   "execution_count": 1,
   "id": "dbd890a0",
   "metadata": {},
   "outputs": [],
   "source": [
    "import numpy as np\n",
    "from sklearn.svm import SVR\n",
    "from sklearn.model_selection import train_test_split\n",
    "from sklearn.metrics import mean_squared_error\n",
    "import matplotlib.pyplot as plt\n",
    "import pandas as pd\n",
    "from sklearn.multioutput import MultiOutputRegressor\n",
    "from sklearn.metrics import r2_score,mean_squared_error"
   ]
  },
  {
   "cell_type": "code",
   "execution_count": 2,
   "id": "69b38829",
   "metadata": {},
   "outputs": [],
   "source": [
    "data=pd.read_csv('C:/Users/14760/Desktop/cleaned_data.csv')\n",
    "#导入数据集"
   ]
  },
  {
   "cell_type": "code",
   "execution_count": 3,
   "id": "de87ba19",
   "metadata": {},
   "outputs": [],
   "source": [
    "features=data.drop(['Ms','Hc','Hc_log'],axis=1)\n",
    "target_Ms=data['Ms']\n",
    "target_Hc=data['Hc_log']\n",
    "target=np.array([target_Ms,target_Hc]).T\n",
    "\n",
    "#划分目标变量"
   ]
  },
  {
   "cell_type": "code",
   "execution_count": 4,
   "id": "d4a1948f",
   "metadata": {},
   "outputs": [],
   "source": [
    "X_train,X_test,y_train,y_test=train_test_split(features,target,test_size=0.2,random_state=42)\n",
    "#划分数据集"
   ]
  },
  {
   "cell_type": "code",
   "execution_count": 5,
   "id": "d5f45141",
   "metadata": {},
   "outputs": [],
   "source": [
    "svr_rbf = SVR(kernel='rbf', C=100, gamma=0.0005, epsilon=0.1)\n",
    "multioutput_regressor = MultiOutputRegressor(svr_rbf)\n",
    "#创建svr模型"
   ]
  },
  {
   "cell_type": "code",
   "execution_count": 6,
   "id": "ca87129d",
   "metadata": {},
   "outputs": [
    {
     "data": {
      "text/plain": [
       "MultiOutputRegressor(estimator=SVR(C=100, gamma=0.0005))"
      ]
     },
     "execution_count": 6,
     "metadata": {},
     "output_type": "execute_result"
    }
   ],
   "source": [
    "multioutput_regressor.fit(X_train, y_train)"
   ]
  },
  {
   "cell_type": "code",
   "execution_count": 7,
   "id": "b1a6aa35",
   "metadata": {},
   "outputs": [
    {
     "data": {
      "text/plain": [
       "array([[186.42520139,   1.77496584],\n",
       "       [137.52135816,   5.6724255 ],\n",
       "       [ 81.8464238 ,   5.98702004],\n",
       "       [155.28456724,   4.97269742],\n",
       "       [171.33228493,   1.85279962],\n",
       "       [197.13572853,   2.20685768],\n",
       "       [ 63.13900954,   6.59998719],\n",
       "       [135.87454201,   5.77595338],\n",
       "       [195.20007106,   0.85550443],\n",
       "       [190.37641994,   2.65278442],\n",
       "       [207.88115289,   1.69395904],\n",
       "       [ 93.75479057,   3.98693314],\n",
       "       [187.5441408 ,   3.05095598],\n",
       "       [110.06802031,   5.72783611],\n",
       "       [ 86.68563215,   6.46193475],\n",
       "       [196.16125401,   2.07094233],\n",
       "       [200.97624853,   2.52079574],\n",
       "       [161.99793807,   1.94184541],\n",
       "       [ 41.41717123,   2.91493626],\n",
       "       [109.39097055,   1.8268789 ],\n",
       "       [146.52082933,   5.95652229],\n",
       "       [ 71.70148935,   2.89872694],\n",
       "       [113.35945866,   5.46463103],\n",
       "       [167.43457685,   4.55328259],\n",
       "       [140.64324966,   5.16659922],\n",
       "       [143.54590176,   4.19847764],\n",
       "       [186.92346568,   2.8784282 ],\n",
       "       [154.33098508,   4.96198033],\n",
       "       [156.72156478,   4.99282167],\n",
       "       [173.11385873,   2.20255339],\n",
       "       [ 61.02104129,   2.78394845],\n",
       "       [190.94890273,   2.23322946],\n",
       "       [ 59.9319235 ,   6.73403423],\n",
       "       [110.11144361,   5.54314878],\n",
       "       [ 82.30572119,   4.69813951],\n",
       "       [104.75508471,   5.09698991],\n",
       "       [104.72787348,   5.80494793],\n",
       "       [139.51698661,   8.07147413]])"
      ]
     },
     "execution_count": 7,
     "metadata": {},
     "output_type": "execute_result"
    }
   ],
   "source": [
    "y_pred = multioutput_regressor.predict(X_test)\n",
    "y_pred"
   ]
  },
  {
   "cell_type": "code",
   "execution_count": 8,
   "id": "3e53347f",
   "metadata": {},
   "outputs": [
    {
     "name": "stdout",
     "output_type": "stream",
     "text": [
      "0.8640167181835935\n",
      "20.82199034221541\n"
     ]
    }
   ],
   "source": [
    "r2=r2_score(y_test[:,0],y_pred[:,0])\n",
    "rmse=np.sqrt(mean_squared_error(y_test[:,0],y_pred[:,0]))\n",
    "print(r2)\n",
    "print(rmse)"
   ]
  },
  {
   "cell_type": "code",
   "execution_count": 9,
   "id": "4b15ff3a",
   "metadata": {},
   "outputs": [
    {
     "data": {
      "image/png": "[encoded data removed]",
      "text/plain": [
       "<Figure size 432x288 with 1 Axes>"
      ]
     },
     "metadata": {
      "needs_background": "light"
     },
     "output_type": "display_data"
    }
   ],
   "source": [
    "x=np.linspace(0,250,1000)\n",
    "y=x\n",
    "plt.plot(x,y)\n",
    "plt.scatter(y_test[:,0],y_pred[:,0])\n",
    "plt.show()"
   ]
  },
  {
   "cell_type": "code",
   "execution_count": 10,
   "id": "6f8dd705",
   "metadata": {},
   "outputs": [
    {
     "name": "stdout",
     "output_type": "stream",
     "text": [
      "0.6651742036136372\n",
      "1.06027718993438\n"
     ]
    }
   ],
   "source": [
    "r2=r2_score(y_test[:,1],y_pred[:,1])\n",
    "rmse=np.sqrt(mean_squared_error(y_test[:,1],y_pred[:,1]))\n",
    "print(r2)\n",
    "print(rmse)"
   ]
  },
  {
   "cell_type": "code",
   "execution_count": 11,
   "id": "2f90b2df",
   "metadata": {},
   "outputs": [
    {
     "data": {
      "image/png": "[encoded data removed]",
      "text/plain": [
       "<Figure size 432x288 with 1 Axes>"
      ]
     },
     "metadata": {
      "needs_background": "light"
     },
     "output_type": "display_data"
    }
   ],
   "source": [
    "x=np.linspace(0,7,1000)\n",
    "y=x\n",
    "plt.plot(x,y)\n",
    "plt.scatter(y_test[:,1],y_pred[:,1])\n",
    "plt.show()"
   ]
  },
  {
   "cell_type": "code",
   "execution_count": null,
   "id": "c14526f9",
   "metadata": {},
   "outputs": [],
   "source": []
  },
  {
   "cell_type": "code",
   "execution_count": null,
   "id": "11b651e0",
   "metadata": {},
   "outputs": [],
   "source": []
  }
 ],
 "metadata": {
  "kernelspec": {
   "display_name": "Python 3",
   "language": "python",
   "name": "python3"
  },
  "language_info": {
   "codemirror_mode": {
    "name": "ipython",
    "version": 3
   },
   "file_extension": ".py",
   "mimetype": "text/x-python",
   "name": "python",
   "nbconvert_exporter": "python",
   "pygments_lexer": "ipython3",
   "version": "3.6.13"
  }
 },
 "nbformat": 4,
 "nbformat_minor": 5
}

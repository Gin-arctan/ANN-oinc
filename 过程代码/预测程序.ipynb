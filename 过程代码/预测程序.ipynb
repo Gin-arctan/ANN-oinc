{
 "cells": [
  {
   "cell_type": "code",
   "execution_count": 1,
   "id": "ad8b0fc5",
   "metadata": {},
   "outputs": [],
   "source": [
    "import tensorflow as tf\n",
    "import numpy as np\n",
    "import pandas as pd"
   ]
  },
  {
   "cell_type": "code",
   "execution_count": 2,
   "id": "c503e3ff",
   "metadata": {},
   "outputs": [],
   "source": [
    "model=tf.keras.models.load_model('C:/Users/14760/2025050901.h5')"
   ]
  },
  {
   "cell_type": "code",
   "execution_count": 3,
   "id": "c0b471da",
   "metadata": {},
   "outputs": [
    {
     "name": "stdout",
     "output_type": "stream",
     "text": [
      "Predicted Ms: 5.633675575256348\n",
      "Predicted log(Hc+1): 6.285131931304932\n"
     ]
    }
   ],
   "source": [
    "# 准备输入数据\n",
    "TEST_data = {\n",
    "    'Fe': [74.00],\n",
    "    'Co': [0],\n",
    "    'Mn': [0],\n",
    "    'Al': [9.73],\n",
    "    'Ni': [0],\n",
    "    'B': [0],\n",
    "    'Hf': [0],\n",
    "    'Si': [16.27],\n",
    "    'Cu': [0],\n",
    "    'P': [0],\n",
    "    'Mo': [0],\n",
    "    'Cr': [0],\n",
    "    'La': [0],\n",
    "    'Ti': [0],\n",
    "    'Sn': [0],\n",
    "    'V': [0],\n",
    "    'Ga': [0],\n",
    "    'Nb': [0],\n",
    "    'Zr': [0],\n",
    "    'C': [0],\n",
    "    'Gd': [0],\n",
    "    'Y': [0],\n",
    "    'Ta': [0],\n",
    "    'DO3': [1],\n",
    "    'BCC': [1],\n",
    "    'FCC': [0],\n",
    "    'HCP': [0],\n",
    "    'Orthorhombic': [0],\n",
    "    'hexagonal': [0],\n",
    "    'Tetragonal': [0],\n",
    "    'Primitive Cubic': [0],\n",
    "}\n",
    "\n",
    "# 将数据字典转换为 DataFrame\n",
    "input_df = pd.DataFrame(TEST_data)\n",
    "#input_df = input_df[feature_columns]  # 确保列顺序一致\n",
    "\n",
    "# 使用模型进行预测\n",
    "predicted_values = model.predict(input_df)\n",
    "\n",
    "# 输出预测结果\n",
    "print(f\"Predicted Ms: {predicted_values[0][0]}\")\n",
    "print(f\"Predicted log(Hc+1): {predicted_values[0][1]}\")  "
   ]
  },
  {
   "cell_type": "code",
   "execution_count": 4,
   "id": "33aee6b1",
   "metadata": {},
   "outputs": [
    {
     "name": "stdout",
     "output_type": "stream",
     "text": [
      "Predicted Ms: 4.772288799285889\n",
      "Predicted log(Hc+1): 5.869646072387695\n"
     ]
    }
   ],
   "source": [
    "# 准备输入数据\n",
    "TEST_data = {\n",
    "    'Fe': [50.00],\n",
    "    'Co': [0],\n",
    "    'Mn': [0],\n",
    "    'Al': [0],\n",
    "    'Ni': [50.00],\n",
    "    'B': [0],\n",
    "    'Hf': [0],\n",
    "    'Si': [0],\n",
    "    'Cu': [0],\n",
    "    'P': [0],\n",
    "    'Mo': [0],\n",
    "    'Cr': [0],\n",
    "    'La': [0],\n",
    "    'Ti': [0],\n",
    "    'Sn': [0],\n",
    "    'V': [0],\n",
    "    'Ga': [0],\n",
    "    'Nb': [0],\n",
    "    'Zr': [0],\n",
    "    'C': [0],\n",
    "    'Gd': [0],\n",
    "    'Y': [0],\n",
    "    'Ta': [0],\n",
    "    'DO3': [0],\n",
    "    'BCC': [0],\n",
    "    'FCC': [1],\n",
    "    'HCP': [0],\n",
    "    'Orthorhombic': [0],\n",
    "    'hexagonal': [0],\n",
    "    'Tetragonal': [0],\n",
    "    'Primitive Cubic': [0],\n",
    "}\n",
    "\n",
    "# 将数据字典转换为 DataFrame\n",
    "input_df = pd.DataFrame(TEST_data)\n",
    "#input_df = input_df[feature_columns]  # 确保列顺序一致\n",
    "\n",
    "# 使用模型进行预测\n",
    "predicted_values = model.predict(input_df)\n",
    "\n",
    "# 输出预测结果\n",
    "print(f\"Predicted Ms: {predicted_values[0][0]}\")\n",
    "print(f\"Predicted log(Hc+1): {predicted_values[0][1]}\")  "
   ]
  },
  {
   "cell_type": "code",
   "execution_count": 5,
   "id": "2bc85c6e",
   "metadata": {},
   "outputs": [
    {
     "name": "stdout",
     "output_type": "stream",
     "text": [
      "Predicted Ms: 5.434558868408203\n",
      "Predicted log(Hc+1): 7.482279300689697\n"
     ]
    }
   ],
   "source": [
    "# 准备输入数据\n",
    "TEST_data = {\n",
    "    'Fe': [74.84],\n",
    "    'Co': [0],\n",
    "    'Mn': [1.42],\n",
    "    'Al': [10.25],\n",
    "    'Ni': [0],\n",
    "    'B': [0],\n",
    "    'Hf': [0],\n",
    "    'Si': [9.23],\n",
    "    'Cu': [0],\n",
    "    'P': [0],\n",
    "    'Mo': [0],\n",
    "    'Cr': [4.25],\n",
    "    'La': [0],\n",
    "    'Ti': [0],\n",
    "    'Sn': [0],\n",
    "    'V': [0],\n",
    "    'Ga': [0],\n",
    "    'Nb': [0],\n",
    "    'Zr': [0],\n",
    "    'C': [0],\n",
    "    'Gd': [0],\n",
    "    'Y': [0],\n",
    "    'Ta': [0],\n",
    "    'DO3': [0],\n",
    "    'BCC': [1],\n",
    "    'FCC': [0],\n",
    "    'HCP': [0],\n",
    "    'Orthorhombic': [0],\n",
    "    'hexagonal': [0],\n",
    "    'Tetragonal': [0],\n",
    "    'Primitive Cubic': [0],\n",
    "}\n",
    "\n",
    "# 将数据字典转换为 DataFrame\n",
    "input_df = pd.DataFrame(TEST_data)\n",
    "#input_df = input_df[feature_columns]  # 确保列顺序一致\n",
    "\n",
    "# 使用模型进行预测\n",
    "predicted_values = model.predict(input_df)\n",
    "\n",
    "# 输出预测结果\n",
    "print(f\"Predicted Ms: {predicted_values[0][0]}\")\n",
    "print(f\"Predicted log(Hc+1): {predicted_values[0][1]}\")  "
   ]
  },
  {
   "cell_type": "code",
   "execution_count": null,
   "id": "3390e3d9",
   "metadata": {},
   "outputs": [],
   "source": []
  }
 ],
 "metadata": {
  "kernelspec": {
   "display_name": "Python 3",
   "language": "python",
   "name": "python3"
  },
  "language_info": {
   "codemirror_mode": {
    "name": "ipython",
    "version": 3
   },
   "file_extension": ".py",
   "mimetype": "text/x-python",
   "name": "python",
   "nbconvert_exporter": "python",
   "pygments_lexer": "ipython3",
   "version": "3.6.13"
  }
 },
 "nbformat": 4,
 "nbformat_minor": 5
}

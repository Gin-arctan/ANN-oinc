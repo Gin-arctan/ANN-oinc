{
 "cells": [
  {
   "cell_type": "code",
   "execution_count": 1,
   "id": "d1fb8448",
   "metadata": {},
   "outputs": [],
   "source": [
    "import pandas as pd \n",
    "import numpy as np\n",
    "from sklearn.model_selection import train_test_split,GridSearchCV\n",
    "from sklearn.ensemble import RandomForestRegressor\n",
    "from sklearn.metrics import r2_score,mean_squared_error\n",
    "import matplotlib.pyplot as plt"
   ]
  },
  {
   "cell_type": "code",
   "execution_count": 2,
   "id": "09a00abb",
   "metadata": {},
   "outputs": [],
   "source": [
    "data=pd.read_csv('C:/Users/14760/Desktop/cleaned_data.csv')\n",
    "#导入数据集"
   ]
  },
  {
   "cell_type": "code",
   "execution_count": 3,
   "id": "cadb1bdc",
   "metadata": {},
   "outputs": [],
   "source": [
    "features=data.drop(['Ms','Hc','Hc_log'],axis=1)\n",
    "target_Ms=data['Ms']\n",
    "target_Hc=data['Hc_log']\n",
    "target=np.array([target_Ms,target_Hc]).T\n",
    "\n",
    "#划分目标变量"
   ]
  },
  {
   "cell_type": "code",
   "execution_count": 4,
   "id": "a0da3d77",
   "metadata": {},
   "outputs": [],
   "source": [
    "X_train,X_test,y_train,y_test=train_test_split(features,target,test_size=0.2,random_state=42)\n",
    "#划分数据集"
   ]
  },
  {
   "cell_type": "code",
   "execution_count": 5,
   "id": "4c9a9714",
   "metadata": {},
   "outputs": [],
   "source": [
    "param_grid={\n",
    "    'n_estimators':[50, 100, 150, 200, 250],\n",
    "    'max_depth':[30, 50, 100],\n",
    "    'min_samples_split': [2, 5, 7, 10]\n",
    "}\n",
    "rf=RandomForestRegressor(random_state=42)\n",
    "grid_search=GridSearchCV(rf,param_grid,cv=5)\n",
    "grid_search.fit(X_train,y_train)\n",
    "best_rf=grid_search.best_estimator_"
   ]
  },
  {
   "cell_type": "code",
   "execution_count": 6,
   "id": "f4a328c6",
   "metadata": {},
   "outputs": [
    {
     "name": "stdout",
     "output_type": "stream",
     "text": [
      "0.7706509167985056\n",
      "17.113468213994103\n"
     ]
    }
   ],
   "source": [
    "y_pred=best_rf.predict(X_test)\n",
    "r2=r2_score(y_test,y_pred)\n",
    "rmse=np.sqrt(mean_squared_error(y_test,y_pred))\n",
    "print(r2)\n",
    "print(rmse)"
   ]
  },
  {
   "cell_type": "code",
   "execution_count": 7,
   "id": "34843b71",
   "metadata": {},
   "outputs": [
    {
     "name": "stdout",
     "output_type": "stream",
     "text": [
      "0.8165738338936066\n",
      "24.182997220599674\n"
     ]
    }
   ],
   "source": [
    "r2=r2_score(y_test[:,0],y_pred[:,0])\n",
    "rmse=np.sqrt(mean_squared_error(y_test[:,0],y_pred[:,0]))\n",
    "print(r2)\n",
    "print(rmse)"
   ]
  },
  {
   "cell_type": "code",
   "execution_count": 8,
   "id": "c3929e19",
   "metadata": {},
   "outputs": [
    {
     "data": {
      "image/png": "[encoded data removed]",
      "text/plain": [
       "<Figure size 432x288 with 1 Axes>"
      ]
     },
     "metadata": {
      "needs_background": "light"
     },
     "output_type": "display_data"
    }
   ],
   "source": [
    "x=np.linspace(0,250,1000)\n",
    "y=x\n",
    "plt.plot(x,y)\n",
    "plt.scatter(y_test[:,0],y_pred[:,0])\n",
    "plt.show()"
   ]
  },
  {
   "cell_type": "code",
   "execution_count": 9,
   "id": "eb1ac9de",
   "metadata": {},
   "outputs": [
    {
     "name": "stdout",
     "output_type": "stream",
     "text": [
      "0.7247279997034046\n",
      "0.9613709228187636\n"
     ]
    }
   ],
   "source": [
    "r2=r2_score(y_test[:,1],y_pred[:,1])\n",
    "rmse=np.sqrt(mean_squared_error(y_test[:,1],y_pred[:,1]))\n",
    "print(r2)\n",
    "print(rmse)"
   ]
  },
  {
   "cell_type": "code",
   "execution_count": 10,
   "id": "ddfd4d9e",
   "metadata": {},
   "outputs": [
    {
     "data": {
      "image/png": "[encoded data removed]",
      "text/plain": [
       "<Figure size 432x288 with 1 Axes>"
      ]
     },
     "metadata": {
      "needs_background": "light"
     },
     "output_type": "display_data"
    }
   ],
   "source": [
    "x=np.linspace(0,7,1000)\n",
    "y=x\n",
    "plt.plot(x,y)\n",
    "plt.scatter(y_test[:,1],y_pred[:,1])\n",
    "plt.show()"
   ]
  },
  {
   "cell_type": "code",
   "execution_count": null,
   "id": "e1f31d09",
   "metadata": {},
   "outputs": [],
   "source": []
  }
 ],
 "metadata": {
  "kernelspec": {
   "display_name": "Python 3",
   "language": "python",
   "name": "python3"
  },
  "language_info": {
   "codemirror_mode": {
    "name": "ipython",
    "version": 3
   },
   "file_extension": ".py",
   "mimetype": "text/x-python",
   "name": "python",
   "nbconvert_exporter": "python",
   "pygments_lexer": "ipython3",
   "version": "3.6.13"
  }
 },
 "nbformat": 4,
 "nbformat_minor": 5
}
